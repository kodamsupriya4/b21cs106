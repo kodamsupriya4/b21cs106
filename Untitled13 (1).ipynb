{
 "cells": [
  {
   "cell_type": "code",
   "execution_count": 1,
   "id": "f6a103ae",
   "metadata": {},
   "outputs": [
    {
     "name": "stdout",
     "output_type": "stream",
     "text": [
      "3\n",
      "7\n",
      "1\n",
      "6\n",
      "3\n",
      "14\n"
     ]
    }
   ],
   "source": [
    "def xor_sum_max(N, K, A):\n",
    "    max_xor_sum = 0\n",
    "    best_x = 0\n",
    "    for i in range(30, -1, -1):\n",
    "        # Check if we can set the ith bit to 1\n",
    "        count_1 = 0\n",
    "        count_0 = 0\n",
    "        for num in A:\n",
    "            if num & (1 << i):\n",
    "                count_1 += 1\n",
    "            else:\n",
    "                count_0 += 1\n",
    "\n",
    "        # If setting the bit to 1 is better and within the limit\n",
    "        if count_0 > count_1:\n",
    "            # Temporary x with ith bit set\n",
    "            temp_x = best_x | (1 << i)\n",
    "            if temp_x <= K:\n",
    "                best_x = temp_x\n",
    "                max_xor_sum += count_0 * (1 << i)\n",
    "            else:\n",
    "                max_xor_sum += count_1 * (1 << i)\n",
    "        else:\n",
    "            max_xor_sum += count_1 * (1 << i)\n",
    "\n",
    "    return max_xor_sum\n",
    "\n",
    "\n",
    "# Read input\n",
    "N = int(input())\n",
    "K = int(input())\n",
    "A = [int(input()) for _ in range(N)]\n",
    "\n",
    "# Get the result\n",
    "result = xor_sum_max(N, K, A)\n",
    "print(result)\n"
   ]
  },
  {
   "cell_type": "code",
   "execution_count": 2,
   "id": "fe6bc2f7",
   "metadata": {},
   "outputs": [
    {
     "name": "stdout",
     "output_type": "stream",
     "text": [
      "8\n",
      "-1 2 -5 3 6 1 -8 4\n",
      "10\n"
     ]
    }
   ],
   "source": [
    "def max_subarray_sum(arr):\n",
    "    # Initialize the variables to store the maximum sums\n",
    "    max_current = max_global = arr[0]\n",
    "\n",
    "    for num in arr[1:]:\n",
    "        # Update max_current to be the maximum of the current number or current number plus max_current\n",
    "        max_current = max(num, max_current + num)\n",
    "        # Update max_global if max_current is greater\n",
    "        if max_current > max_global:\n",
    "            max_global = max_current\n",
    "\n",
    "    return max_global\n",
    "\n",
    "\n",
    "# Read input\n",
    "N = int(input())\n",
    "arr = list(map(int, input().split()))\n",
    "\n",
    "# Get the result\n",
    "result = max_subarray_sum(arr)\n",
    "print(result)\n"
   ]
  },
  {
   "cell_type": "code",
   "execution_count": 4,
   "id": "c9877f73",
   "metadata": {},
   "outputs": [
    {
     "name": "stdout",
     "output_type": "stream",
     "text": [
      "6\n",
      "10 22 9 33 21 50\n",
      "4\n"
     ]
    }
   ],
   "source": [
    "def longest_increasing_subsequence(arr):\n",
    "    n = len(arr)\n",
    "    dp = [1] * n  # Initialize all dp values to 1\n",
    "    \n",
    "    for i in range(1, n):\n",
    "        for j in range(i):\n",
    "            if arr[i] > arr[j]:\n",
    "                dp[i] = max(dp[i], dp[j] + 1)\n",
    "                \n",
    "    return max(dp)\n",
    "\n",
    "# Read input\n",
    "N = int(input())\n",
    "arr = list(map(int, input().split()))\n",
    "\n",
    "# Get the result\n",
    "result = longest_increasing_subsequence(arr)\n",
    "print(result)\n"
   ]
  },
  {
   "cell_type": "code",
   "execution_count": 5,
   "id": "7d3baf29",
   "metadata": {},
   "outputs": [
    {
     "name": "stdout",
     "output_type": "stream",
     "text": [
      "4\n",
      "5\n",
      "3\n",
      "7\n",
      "2\n",
      "6\n",
      "21\n"
     ]
    }
   ],
   "source": [
    "def calculate_total_amount_collected(N, T, weights):\n",
    "    total_amount = 0\n",
    "    for weight in weights:\n",
    "        if weight <= T:\n",
    "            total_amount += weight\n",
    "        else:\n",
    "            total_amount += T + 2 * (weight - T)\n",
    "    return total_amount\n",
    "\n",
    "# Read input\n",
    "N = int(input())\n",
    "T = int(input())\n",
    "weights = [int(input()) for _ in range(N)]\n",
    "\n",
    "# Get the result\n",
    "result = calculate_total_amount_collected(N, T, weights)\n",
    "print(result)\n"
   ]
  },
  {
   "cell_type": "code",
   "execution_count": 6,
   "id": "0998635b",
   "metadata": {},
   "outputs": [
    {
     "name": "stdout",
     "output_type": "stream",
     "text": [
      "6\n"
     ]
    }
   ],
   "source": [
    "def max_subarray_sum(arr):\n",
    "    #Kadane’s Algorithm (Maximum Subarray Sum):\n",
    "    # Initialize the variables to store the maximum sums\n",
    "    max_current = max_global = arr[0]\n",
    "    \n",
    "    for num in arr[1:]:\n",
    "        # Update max_current to be the maximum of the current number or current number plus max_current\n",
    "        max_current = max(num, max_current + num)\n",
    "        # Update max_global if max_current is greater\n",
    "        if max_current > max_global:\n",
    "            max_global = max_current\n",
    "            \n",
    "    return max_global\n",
    "\n",
    "# Example usage:\n",
    "arr = [-2, 1, -3, 4, -1, 2, 1, -5, 4]\n",
    "print(max_subarray_sum(arr))  # Output: 6\n"
   ]
  },
  {
   "cell_type": "code",
   "execution_count": 7,
   "id": "0f65e21a",
   "metadata": {},
   "outputs": [
    {
     "name": "stdout",
     "output_type": "stream",
     "text": [
      "[1, 2, 3, 6, 9, 8, 7, 4, 5]\n"
     ]
    }
   ],
   "source": [
    "def spiral_order(matrix):\n",
    "    if not matrix or not matrix[0]:\n",
    "        return []\n",
    "    \n",
    "    m, n = len(matrix), len(matrix[0])\n",
    "    result = []\n",
    "    top, bottom, left, right = 0, m - 1, 0, n - 1\n",
    "    \n",
    "    while top <= bottom and left <= right:\n",
    "        # Move right across the top boundary\n",
    "        for j in range(left, right + 1):\n",
    "            result.append(matrix[top][j])\n",
    "        top += 1\n",
    "        \n",
    "        # Move down the right boundary\n",
    "        for i in range(top, bottom + 1):\n",
    "            result.append(matrix[i][right])\n",
    "        right -= 1\n",
    "        \n",
    "        if top <= bottom:\n",
    "            # Move left across the bottom boundary\n",
    "            for j in range(right, left - 1, -1):\n",
    "                result.append(matrix[bottom][j])\n",
    "            bottom -= 1\n",
    "        \n",
    "        if left <= right:\n",
    "            # Move up the left boundary\n",
    "            for i in range(bottom, top - 1, -1):\n",
    "                result.append(matrix[i][left])\n",
    "            left += 1\n",
    "    \n",
    "    return result\n",
    "\n",
    "# Example usage:\n",
    "matrix = [\n",
    "    [1, 2, 3],\n",
    "    [4, 5, 6],\n",
    "    [7, 8, 9]\n",
    "]\n",
    "print(spiral_order(matrix))  # Output: [1, 2, 3, 6, 9, 8, 7, 4, 5]\n"
   ]
  },
  {
   "cell_type": "code",
   "execution_count": 8,
   "id": "9e7b3f5a",
   "metadata": {},
   "outputs": [
    {
     "name": "stdout",
     "output_type": "stream",
     "text": [
      "[['eat', 'tea', 'ate'], ['tan', 'nat'], ['bat']]\n"
     ]
    }
   ],
   "source": [
    "def group_anagrams(strs):\n",
    "    anagrams = {}\n",
    "    \n",
    "    for s in strs:\n",
    "        # Sort the string to form the key\n",
    "        key = ''.join(sorted(s))\n",
    "        # Add the original string to the corresponding list\n",
    "        if key in anagrams:\n",
    "            anagrams[key].append(s)\n",
    "        else:\n",
    "            anagrams[key] = [s]\n",
    "    \n",
    "    # Return the values of the dictionary\n",
    "    return list(anagrams.values())\n",
    "\n",
    "# Example usage:\n",
    "input_strs = [\"eat\", \"tea\", \"tan\", \"ate\", \"nat\", \"bat\"]\n",
    "print(group_anagrams(input_strs))  # Output: [[\"eat\", \"tea\", \"ate\"], [\"tan\", \"nat\"], [\"bat\"]]\n"
   ]
  },
  {
   "cell_type": "code",
   "execution_count": 22,
   "id": "6c4912cb",
   "metadata": {},
   "outputs": [
    {
     "name": "stdout",
     "output_type": "stream",
     "text": [
      "33\n"
     ]
    }
   ],
   "source": [
    "def calculate_visibility(A, B, M, N, I):\n",
    "    grid = A.copy()  # Create a copy of the existing buildings grid\n",
    "\n",
    "    total_visibility = 0\n",
    "    for height in B[:I]:\n",
    "        max_score = 0\n",
    "        col = 0\n",
    "        for j in range(N):\n",
    "            score = height - max(grid[i][j - 1] for i in range(M)) if j > 0 else height\n",
    "            if score > max_score:\n",
    "                max_score = score\n",
    "                col = j\n",
    "        grid[M - 1][col] = height  # Place the building in the optimal column\n",
    "        total_visibility += max_score\n",
    "\n",
    "    return total_visibility\n",
    "\n",
    "# Example usage:\n",
    "A = [[0, 2, 3], [0, 6, 0], [7, 8, 9]]\n",
    "B = [10, 11, 12]\n",
    "M = 3\n",
    "N = 3\n",
    "I = 3\n",
    "\n",
    "result = calculate_visibility(A, B, M, N, I)\n",
    "print(result)  # Output: 3\n",
    "\n"
   ]
  },
  {
   "cell_type": "code",
   "execution_count": 23,
   "id": "1bdd94c5",
   "metadata": {},
   "outputs": [
    {
     "name": "stdout",
     "output_type": "stream",
     "text": [
      "33\n"
     ]
    }
   ],
   "source": [
    "def calculate_visibility(A, B, M, N, I):\n",
    "    grid = A.copy()  # Create a copy of the existing buildings grid\n",
    "\n",
    "    total_visibility = 0\n",
    "    for height in B[:I]:\n",
    "        max_score = 0\n",
    "        col = 0\n",
    "        for j in range(N):\n",
    "            score = height - max(grid[i][j - 1] for i in range(M)) if j > 0 else height\n",
    "            if score > max_score:\n",
    "                max_score = score\n",
    "                col = j\n",
    "        grid[M - 1][col] = height  # Place the building in the optimal column\n",
    "        total_visibility += max_score  # Add the visibility score, not the full height\n",
    "\n",
    "    return total_visibility\n",
    "\n",
    "# Example usage:\n",
    "A = [[0, 2, 3], [0, 6, 0], [7, 8, 9]]\n",
    "B = [10, 11, 12]\n",
    "M = 3\n",
    "N = 3\n",
    "I = 3\n",
    "\n",
    "result = calculate_visibility(A, B, M, N, I)\n",
    "print(result)  # Output: 3\n"
   ]
  },
  {
   "cell_type": "code",
   "execution_count": 24,
   "id": "dab6fba2",
   "metadata": {},
   "outputs": [
    {
     "name": "stdout",
     "output_type": "stream",
     "text": [
      "Output: 27\n"
     ]
    }
   ],
   "source": [
    "def possible_arrangement(M, N, A, I, B):\n",
    "    # Create a new matrix C initialized as A\n",
    "    C = [row[:] for row in A]\n",
    "    \n",
    "    # Replace the I-th row of C with B\n",
    "    C[I - 1] = B\n",
    "    \n",
    "    # Compute the solution\n",
    "    sum_diffs = 0\n",
    "    for i in range(M):\n",
    "        for j in range(N):\n",
    "            if C[i][j] != A[i][j]:\n",
    "                sum_diffs += C[i][j] - A[i][j]\n",
    "    \n",
    "    output = 3 * sum_diffs\n",
    "    return output\n",
    "\n",
    "# Example usage\n",
    "M = 3\n",
    "N = 3\n",
    "A = [\n",
    "    [0, 2, 3],\n",
    "    [0, 6, 0],\n",
    "    [7, 8, 9]\n",
    "]\n",
    "I = 3\n",
    "B = [10, 11, 12]\n",
    "\n",
    "result = possible_arrangement(M, N, A, I, B)\n",
    "print(\"Output:\", result)"
   ]
  },
  {
   "cell_type": "code",
   "execution_count": 29,
   "id": "d9ada7b3",
   "metadata": {},
   "outputs": [
    {
     "name": "stdout",
     "output_type": "stream",
     "text": [
      "10\n"
     ]
    }
   ],
   "source": [
    "def calculate_visibility_score(A, x, y):\n",
    "    M, N = len(A), len(A[0])\n",
    "    max_height = 0\n",
    "    \n",
    "    # Check left\n",
    "    if y > 0:\n",
    "        max_height = max(max_height, A[x][y-1])\n",
    "    \n",
    "    # Check right\n",
    "    if y < N - 1:\n",
    "        max_height = max(max_height, A[x][y+1])\n",
    "    \n",
    "    # Check up\n",
    "    if x > 0:\n",
    "        max_height = max(max_height, A[x-1][y])\n",
    "    \n",
    "    # Check down\n",
    "    if x < M - 1:\n",
    "        max_height = max(max_height, A[x+1][y])\n",
    "    \n",
    "    return max_height\n",
    "\n",
    "def maximize_visibility_score(A, B):\n",
    "    M, N = len(A), len(A[0])\n",
    "    empty_spots = [(i, j) for i in range(M) for j in range(N) if A[i][j] == 0]\n",
    "    B.sort(reverse=True)  # Place the tallest buildings first\n",
    "    \n",
    "    total_visibility_score = 0\n",
    "    \n",
    "    for height in B:\n",
    "        max_score = float('-inf')\n",
    "        best_spot = None\n",
    "        \n",
    "        for (x, y) in empty_spots:\n",
    "            max_neighbor_height = calculate_visibility_score(A, x, y)\n",
    "            visibility_score = height - max_neighbor_height\n",
    "            if visibility_score > max_score:\n",
    "                max_score = visibility_score\n",
    "                best_spot = (x, y)\n",
    "        \n",
    "        if best_spot:\n",
    "            x, y = best_spot\n",
    "            A[x][y] = height\n",
    "            empty_spots.remove(best_spot)\n",
    "            total_visibility_score += max_score\n",
    "    \n",
    "    return total_visibility_score\n",
    "\n",
    "# Example usage:\n",
    "A = [\n",
    "    [0, 2, 3],\n",
    "    [0, 6, 0],\n",
    "    [7, 8, 9]\n",
    "]\n",
    "B = [10,11,12]\n",
    "\n",
    "print(maximize_visibility_score(A, B))\n"
   ]
  },
  {
   "cell_type": "code",
   "execution_count": 30,
   "id": "b889962d",
   "metadata": {},
   "outputs": [
    {
     "name": "stdout",
     "output_type": "stream",
     "text": [
      "10\n"
     ]
    }
   ],
   "source": [
    "def calculate_visibility_score(A, x, y):\n",
    "    M, N = len(A), len(A[0])\n",
    "    max_height = 0\n",
    "    \n",
    "    # Check left\n",
    "    if y > 0:\n",
    "        max_height = max(max_height, A[x][y-1])\n",
    "    \n",
    "    # Check right\n",
    "    if y < N - 1:\n",
    "        max_height = max(max_height, A[x][y+1])\n",
    "    \n",
    "    # Check up\n",
    "    if x > 0:\n",
    "        max_height = max(max_height, A[x-1][y])\n",
    "    \n",
    "    # Check down\n",
    "    if x < M - 1:\n",
    "        max_height = max(max_height, A[x+1][y])\n",
    "    \n",
    "    return max_height\n",
    "\n",
    "def maximize_visibility_score(M, N, A, I, B):\n",
    "    empty_spots = [(i, j) for i in range(M) for j in range(N) if A[i][j] == 0]\n",
    "    B.sort(reverse=True)  # Place the tallest buildings first\n",
    "    \n",
    "    total_visibility_score = 0\n",
    "    \n",
    "    for height in B:\n",
    "        max_score = float('-inf')\n",
    "        best_spot = None\n",
    "        \n",
    "        for (x, y) in empty_spots:\n",
    "            max_neighbor_height = calculate_visibility_score(A, x, y)\n",
    "            visibility_score = height - max_neighbor_height\n",
    "            if visibility_score > max_score:\n",
    "                max_score = visibility_score\n",
    "                best_spot = (x, y)\n",
    "        \n",
    "        if best_spot:\n",
    "            x, y = best_spot\n",
    "            A[x][y] = height\n",
    "            empty_spots.remove(best_spot)\n",
    "            total_visibility_score += max_score\n",
    "    \n",
    "    return total_visibility_score\n",
    "\n",
    "# Example usage:\n",
    "M = 3\n",
    "N = 3\n",
    "A = [\n",
    "    [0, 2, 3],\n",
    "    [0, 6, 0],\n",
    "    [7, 8, 9]\n",
    "]\n",
    "I = 3\n",
    "B = [10, 11, 12]\n",
    "\n",
    "print(maximize_visibility_score(M, N, A, I, B))\n"
   ]
  },
  {
   "cell_type": "code",
   "execution_count": 31,
   "id": "b40addd1",
   "metadata": {},
   "outputs": [
    {
     "name": "stdout",
     "output_type": "stream",
     "text": [
      "10\n"
     ]
    }
   ],
   "source": [
    "def calculate_visibility_score(A, x, y):\n",
    "    M, N = len(A), len(A[0])\n",
    "    max_height = 0\n",
    "    \n",
    "    # Check left\n",
    "    if y > 0:\n",
    "        max_height = max(max_height, A[x][y-1])\n",
    "    \n",
    "    # Check right\n",
    "    if y < N - 1:\n",
    "        max_height = max(max_height, A[x][y+1])\n",
    "    \n",
    "    # Check up\n",
    "    if x > 0:\n",
    "        max_height = max(max_height, A[x-1][y])\n",
    "    \n",
    "    # Check down\n",
    "    if x < M - 1:\n",
    "        max_height = max(max_height, A[x+1][y])\n",
    "    \n",
    "    return max_height\n",
    "\n",
    "def maximize_visibility_score(M, N, A, I, B):\n",
    "    empty_spots = [(i, j) for i in range(M) for j in range(N) if A[i][j] == 0]\n",
    "    B.sort(reverse=True)  # Place the tallest buildings first\n",
    "    \n",
    "    total_visibility_score = 0\n",
    "    \n",
    "    for height in B:\n",
    "        max_score = float('-inf')\n",
    "        best_spot = None\n",
    "        \n",
    "        for (x, y) in empty_spots:\n",
    "            max_neighbor_height = calculate_visibility_score(A, x, y)\n",
    "            visibility_score = height - max_neighbor_height\n",
    "            if visibility_score > max_score:\n",
    "                max_score = visibility_score\n",
    "                best_spot = (x, y)\n",
    "        \n",
    "        if best_spot:\n",
    "            x, y = best_spot\n",
    "            A[x][y] = height\n",
    "            empty_spots.remove(best_spot)\n",
    "            total_visibility_score += max_score\n",
    "    \n",
    "    return total_visibility_score\n",
    "\n",
    "# Example usage:\n",
    "M = 3\n",
    "N = 3\n",
    "A = [\n",
    "    [0, 2, 3],\n",
    "    [0, 6, 0],\n",
    "    [7, 8, 9]\n",
    "]\n",
    "I = 3\n",
    "B = [10, 11, 12]\n",
    "\n",
    "print(maximize_visibility_score(M, N, A, I, B))  # Output should be 3\n"
   ]
  },
  {
   "cell_type": "code",
   "execution_count": null,
   "id": "f513b40e",
   "metadata": {},
   "outputs": [],
   "source": []
  }
 ],
 "metadata": {
  "kernelspec": {
   "display_name": "Python 3 (ipykernel)",
   "language": "python",
   "name": "python3"
  },
  "language_info": {
   "codemirror_mode": {
    "name": "ipython",
    "version": 3
   },
   "file_extension": ".py",
   "mimetype": "text/x-python",
   "name": "python",
   "nbconvert_exporter": "python",
   "pygments_lexer": "ipython3",
   "version": "3.10.9"
  }
 },
 "nbformat": 4,
 "nbformat_minor": 5
}
